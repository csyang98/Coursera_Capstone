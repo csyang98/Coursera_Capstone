{
    "cells": [
        {
            "cell_type": "markdown",
            "metadata": {
                "collapsed": true
            },
            "source": "## Capstone Notebook\nThis notebook will be used for the capstone project for the IBM Data Science Professional Certificate"
        },
        {
            "cell_type": "code",
            "execution_count": 1,
            "metadata": {},
            "outputs": [],
            "source": "import pandas as pd\nimport numpy as np"
        },
        {
            "cell_type": "code",
            "execution_count": 2,
            "metadata": {},
            "outputs": [
                {
                    "name": "stdout",
                    "output_type": "stream",
                    "text": "Hello Capstone Project Course!\n"
                }
            ],
            "source": "print (\"Hello Capstone Project Course!\")"
        },
        {
            "cell_type": "markdown",
            "metadata": {},
            "source": "## Segmenting and Clustering Neighborhoods in Toronto"
        },
        {
            "cell_type": "code",
            "execution_count": 2,
            "metadata": {},
            "outputs": [],
            "source": "from bs4 import BeautifulSoup\nimport urllib.request\nimport re"
        },
        {
            "cell_type": "code",
            "execution_count": 3,
            "metadata": {},
            "outputs": [],
            "source": "#create beautiful soup object for the given url\ntry:\n    user_agent = 'Mozilla/5.0 (Windows; U; Windows NT 5.1; en-US; rv:1.9.0.7) Gecko/2009021910 Firefox/3.0.7'\n    headers={'User-Agent':user_agent,} \n    request=urllib.request.Request(\"https://en.wikipedia.org/wiki/List_of_postal_codes_of_Canada:_M\",None,headers) #The assembled request\n    html = urllib.request.urlopen(request)\nexcept:\n    print(\"Invalid URL, cannot open\")\n            #return\nsoup = BeautifulSoup(html, 'lxml')  "
        },
        {
            "cell_type": "code",
            "execution_count": 4,
            "metadata": {},
            "outputs": [],
            "source": "#find the table and separate into body and head\ntable=soup.find_all(\"table\", attrs={\"class\": \"wikitable\"})\ntable1 = table[0]\n# the head will form our column names\nbody = table1.find_all(\"tr\")\n# Head values (Column names) are the first items of the body list\nhead = body[0] # 0th item is the header row\nbody_rows = body[1:] # All other items becomes the rest of the rows"
        },
        {
            "cell_type": "code",
            "execution_count": 5,
            "metadata": {},
            "outputs": [
                {
                    "name": "stdout",
                    "output_type": "stream",
                    "text": "['Postal Code', 'Borough', 'Neighbourhood']\n"
                }
            ],
            "source": "#load in the headings of the table\nheadings = []\nfor item in head.find_all(\"th\"): # loop through all th elements\n    # convert the th elements to text and strip \"\\n\"\n    item = (item.text).rstrip(\"\\n\")\n    # append the clean column name to headings\n    headings.append(item)\nprint(headings)"
        },
        {
            "cell_type": "code",
            "execution_count": 17,
            "metadata": {},
            "outputs": [],
            "source": "#add in the rows of the table\nall_rows = [] # will be a list for list for all rows\nfor row_num in range(len(body_rows)): # A row at a time\n    row = [] # this will old entries for one row\n    for row_item in body_rows[row_num].find_all(\"td\"): #loop through all row entries\n        # row_item.text removes the tags from the entries\n        # the following regex is to remove \\xa0 and \\n and comma from row_item.text\n        # xa0 encodes the flag, \\n is the newline and comma separates thousands in numbers\n        aa = re.sub(\"(\\xa0)|(\\n)|,\",\"\",row_item.text)\n        #append aa to row - note one row entry is being appended\n        row.append(aa) #add to list containing row entry\n    if row[1]=='Not assigned': #no borough assigned\n        continue;\n    else:\n        if row[2]=='Not assigned': #borough assigned, but no neighborhood\n            row[2]=row[1]\n        all_rows.append(row)\n\n"
        },
        {
            "cell_type": "code",
            "execution_count": 18,
            "metadata": {},
            "outputs": [],
            "source": "df = pd.DataFrame(data=all_rows,columns=headings)"
        },
        {
            "cell_type": "code",
            "execution_count": 19,
            "metadata": {},
            "outputs": [
                {
                    "data": {
                        "text/html": "<div>\n<style scoped>\n    .dataframe tbody tr th:only-of-type {\n        vertical-align: middle;\n    }\n\n    .dataframe tbody tr th {\n        vertical-align: top;\n    }\n\n    .dataframe thead th {\n        text-align: right;\n    }\n</style>\n<table border=\"1\" class=\"dataframe\">\n  <thead>\n    <tr style=\"text-align: right;\">\n      <th></th>\n      <th>Postal Code</th>\n      <th>Borough</th>\n      <th>Neighbourhood</th>\n    </tr>\n  </thead>\n  <tbody>\n    <tr>\n      <th>0</th>\n      <td>M3A</td>\n      <td>North York</td>\n      <td>Parkwoods</td>\n    </tr>\n    <tr>\n      <th>1</th>\n      <td>M4A</td>\n      <td>North York</td>\n      <td>Victoria Village</td>\n    </tr>\n    <tr>\n      <th>2</th>\n      <td>M5A</td>\n      <td>Downtown Toronto</td>\n      <td>Regent Park Harbourfront</td>\n    </tr>\n    <tr>\n      <th>3</th>\n      <td>M6A</td>\n      <td>North York</td>\n      <td>Lawrence Manor Lawrence Heights</td>\n    </tr>\n    <tr>\n      <th>4</th>\n      <td>M7A</td>\n      <td>Downtown Toronto</td>\n      <td>Queen's Park Ontario Provincial Government</td>\n    </tr>\n    <tr>\n      <th>5</th>\n      <td>M9A</td>\n      <td>Etobicoke</td>\n      <td>Islington Avenue Humber Valley Village</td>\n    </tr>\n    <tr>\n      <th>6</th>\n      <td>M1B</td>\n      <td>Scarborough</td>\n      <td>Malvern Rouge</td>\n    </tr>\n    <tr>\n      <th>7</th>\n      <td>M3B</td>\n      <td>North York</td>\n      <td>Don Mills</td>\n    </tr>\n    <tr>\n      <th>8</th>\n      <td>M4B</td>\n      <td>East York</td>\n      <td>Parkview Hill Woodbine Gardens</td>\n    </tr>\n    <tr>\n      <th>9</th>\n      <td>M5B</td>\n      <td>Downtown Toronto</td>\n      <td>Garden District Ryerson</td>\n    </tr>\n  </tbody>\n</table>\n</div>",
                        "text/plain": "  Postal Code           Borough                               Neighbourhood\n0         M3A        North York                                   Parkwoods\n1         M4A        North York                            Victoria Village\n2         M5A  Downtown Toronto                    Regent Park Harbourfront\n3         M6A        North York             Lawrence Manor Lawrence Heights\n4         M7A  Downtown Toronto  Queen's Park Ontario Provincial Government\n5         M9A         Etobicoke      Islington Avenue Humber Valley Village\n6         M1B       Scarborough                               Malvern Rouge\n7         M3B        North York                                   Don Mills\n8         M4B         East York              Parkview Hill Woodbine Gardens\n9         M5B  Downtown Toronto                     Garden District Ryerson"
                    },
                    "execution_count": 19,
                    "metadata": {},
                    "output_type": "execute_result"
                }
            ],
            "source": "df.head(10)"
        },
        {
            "cell_type": "markdown",
            "metadata": {},
            "source": "1. The dataframe will consist of three columns: PostalCode, Borough, and Neighborhood\n2. Only process the cells that have an assigned borough. Ignore cells with a borough that is Not assigned.\n3. More than one neighborhood can exist in one postal code area. For example, in the table on the Wikipedia page, you will notice that M5A is listed twice and has two neighborhoods: Harbourfront and Regent Park. These two rows will be combined into one row with the neighborhoods separated with a comma as shown in row 11  in the above table.\n4. If a cell has a borough but a Not assigned  neighborhood, then the neighborhood will be the same as the borough.\n6. Clean your Notebook and add Markdown cells to explain your work and any assumptions you are making.\n7. In the last cell of your notebook, use the .shape method to print the number of rows of your dataframe."
        },
        {
            "cell_type": "code",
            "execution_count": 20,
            "metadata": {},
            "outputs": [
                {
                    "data": {
                        "text/plain": "(103, 3)"
                    },
                    "execution_count": 20,
                    "metadata": {},
                    "output_type": "execute_result"
                }
            ],
            "source": "df.shape"
        }
    ],
    "metadata": {
        "kernelspec": {
            "display_name": "Python 3.7",
            "language": "python",
            "name": "python3"
        },
        "language_info": {
            "codemirror_mode": {
                "name": "ipython",
                "version": 3
            },
            "file_extension": ".py",
            "mimetype": "text/x-python",
            "name": "python",
            "nbconvert_exporter": "python",
            "pygments_lexer": "ipython3",
            "version": "3.7.9"
        }
    },
    "nbformat": 4,
    "nbformat_minor": 1
}